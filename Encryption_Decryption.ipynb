{
  "nbformat": 4,
  "nbformat_minor": 0,
  "metadata": {
    "colab": {
      "provenance": [],
      "authorship_tag": "ABX9TyMFCsDefPDvxe+GuNKgyb6f",
      "include_colab_link": true
    },
    "kernelspec": {
      "name": "python3",
      "display_name": "Python 3"
    },
    "language_info": {
      "name": "python"
    }
  },
  "cells": [
    {
      "cell_type": "markdown",
      "metadata": {
        "id": "view-in-github",
        "colab_type": "text"
      },
      "source": [
        "<a href=\"https://colab.research.google.com/github/PatrykCiwinski/Encryptor_decryptor/blob/main/Encryption_Decryption.ipynb\" target=\"_parent\"><img src=\"https://colab.research.google.com/assets/colab-badge.svg\" alt=\"Open In Colab\"/></a>"
      ]
    },
    {
      "cell_type": "code",
      "execution_count": 100,
      "metadata": {
        "id": "fOzLAm7BpA-Q"
      },
      "outputs": [],
      "source": [
        "Cipher={\"A\": \"Y\",\n",
        "\t\t\"B\": \"X\",\n",
        "\t\t\"C\": \"W\",\n",
        "\t\t\"D\": \"Z\",\n",
        "\t\t\"E\": \"B\",\n",
        "\t\t\"F\": \"A\",\n",
        "\t\t\"G\": \"D\",\n",
        "\t\t\"H\": \"S\",\n",
        "\t\t\"I\": \"V\",\n",
        "\t\t\"J\": \"G\",\n",
        "    \"K\":\"C\",\n",
        "    \"L\":\"E\",\n",
        "    \"M\":\"H\",\n",
        "    \"N\":\"Q\",\n",
        "    \"O\":\"F\",\n",
        "    \"P\":\"S\",\n",
        "    \"R\":\"J\",\n",
        "    \"S\":\"L\",\n",
        "    \"T\":\"P\",\n",
        "    \"U\":\"I\",\n",
        "    \"V\":\"T\",\n",
        "    \"W\":\"U\",\n",
        "    \"X\":\"R\",\n",
        "    \"Q\":\"K\",\n",
        "    \"X\":\"M\",\n",
        "    \"Y\":\"N\",\n",
        "    \"Z\":\"O\"\n",
        "\t}\n",
        "\n",
        "key_list = list(Cipher.keys())\n",
        "val_list = list(Cipher.values())\n",
        "\n",
        "def encrypt(text):\n",
        "  text=' '.join(text.split())\n",
        "  text_list = [i.upper() for i in text]\n",
        "  list_of_cipher= [x if x == ' ' else Cipher [x] for x in text_list]\n",
        "  new_word = ''.join(list_of_cipher)\n",
        "  return new_word.strip()\n",
        "  return list_of_cipher"
      ]
    },
    {
      "cell_type": "code",
      "source": [
        "def decrypt(text):\n",
        "  text=' '.join(text.split())\n",
        "  encrypt_list=[i for i in text]\n",
        "  list_of_cipher= [x if x == ' ' else key_list[val_list.index(x)]for x in encrypt_list]\n",
        "  decrypted_word = ''.join(list_of_cipher)\n",
        "  return decrypted_word.strip()"
      ],
      "metadata": {
        "id": "q565MI9KrNHn"
      },
      "execution_count": 102,
      "outputs": []
    },
    {
      "cell_type": "code",
      "source": [
        "encrypt(' i like  cats')"
      ],
      "metadata": {
        "colab": {
          "base_uri": "https://localhost:8080/",
          "height": 36
        },
        "id": "BBlN6-nczEJF",
        "outputId": "008175c9-8b43-4fdb-81a1-33ea7c4c5434"
      },
      "execution_count": 103,
      "outputs": [
        {
          "output_type": "execute_result",
          "data": {
            "text/plain": [
              "'V EVCB WYPL'"
            ],
            "application/vnd.google.colaboratory.intrinsic+json": {
              "type": "string"
            }
          },
          "metadata": {},
          "execution_count": 103
        }
      ]
    },
    {
      "cell_type": "code",
      "source": [
        "decrypt('V EVCB     WYPL')"
      ],
      "metadata": {
        "colab": {
          "base_uri": "https://localhost:8080/",
          "height": 36
        },
        "id": "99e9AhEBzKnd",
        "outputId": "12ee7d34-b3ea-44aa-fd05-58719051b6a1"
      },
      "execution_count": 104,
      "outputs": [
        {
          "output_type": "execute_result",
          "data": {
            "text/plain": [
              "'I LIKE CATS'"
            ],
            "application/vnd.google.colaboratory.intrinsic+json": {
              "type": "string"
            }
          },
          "metadata": {},
          "execution_count": 104
        }
      ]
    },
    {
      "cell_type": "code",
      "source": [],
      "metadata": {
        "id": "ma0XI9thzoI0"
      },
      "execution_count": null,
      "outputs": []
    }
  ]
}